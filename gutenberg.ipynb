{
 "cells": [
  {
   "cell_type": "markdown",
   "id": "b3f61605",
   "metadata": {},
   "source": [
    "Please note that I misnamed the environment as g501-environment in the .yml file"
   ]
  },
  {
   "cell_type": "code",
   "execution_count": 1,
   "id": "f26bd3c5",
   "metadata": {},
   "outputs": [
    {
     "name": "stdout",
     "output_type": "stream",
     "text": [
      "\n",
      "# conda environments:\n",
      "#\n",
      "base                   C:\\Users\\martchfr\\AppData\\Local\\miniconda3\n",
      "g501-environment     * C:\\Users\\martchfr\\AppData\\Local\\miniconda3\\envs\\g501-environment\n",
      "\n"
     ]
    }
   ],
   "source": [
    "!conda env list"
   ]
  }
 ],
 "metadata": {
  "kernelspec": {
   "display_name": "g501-environment",
   "language": "python",
   "name": "python3"
  },
  "language_info": {
   "codemirror_mode": {
    "name": "ipython",
    "version": 3
   },
   "file_extension": ".py",
   "mimetype": "text/x-python",
   "name": "python",
   "nbconvert_exporter": "python",
   "pygments_lexer": "ipython3",
   "version": "3.13.7"
  }
 },
 "nbformat": 4,
 "nbformat_minor": 5
}
