{
 "cells": [
  {
   "cell_type": "code",
   "execution_count": 1,
   "id": "f26bd3c5",
   "metadata": {},
   "outputs": [
    {
     "name": "stdout",
     "output_type": "stream",
     "text": [
      "\n",
      "# conda environments:\n",
      "#\n",
      "base                   C:\\Users\\martchfr\\AppData\\Local\\miniconda3\n",
      "g501-environment       C:\\Users\\martchfr\\AppData\\Local\\miniconda3\\envs\\g501-environment\n",
      "h501-gutenberg       * C:\\Users\\martchfr\\AppData\\Local\\miniconda3\\envs\\h501-gutenberg\n",
      "week-6                 C:\\Users\\martchfr\\AppData\\Local\\miniconda3\\envs\\week-6\n",
      "week-7                 C:\\Users\\martchfr\\AppData\\Local\\miniconda3\\envs\\week-7\n",
      "                       c:\\Users\\martchfr\\AppData\\Local\\miniconda3\n",
      "\n"
     ]
    }
   ],
   "source": [
    "!conda env list"
   ]
  },
  {
   "cell_type": "code",
   "execution_count": null,
   "id": "a00e65be",
   "metadata": {},
   "outputs": [
    {
     "name": "stdout",
     "output_type": "stream",
     "text": [
      "Hello from authors.py\n"
     ]
    }
   ],
   "source": [
    "from tt_gutenberg.authors import *\n",
    "\n",
    "list_authors(by_languages=True, alias=True)"
   ]
  }
 ],
 "metadata": {
  "kernelspec": {
   "display_name": "h501-gutenberg",
   "language": "python",
   "name": "python3"
  },
  "language_info": {
   "codemirror_mode": {
    "name": "ipython",
    "version": 3
   },
   "file_extension": ".py",
   "mimetype": "text/x-python",
   "name": "python",
   "nbconvert_exporter": "python",
   "pygments_lexer": "ipython3",
   "version": "3.13.7"
  }
 },
 "nbformat": 4,
 "nbformat_minor": 5
}
